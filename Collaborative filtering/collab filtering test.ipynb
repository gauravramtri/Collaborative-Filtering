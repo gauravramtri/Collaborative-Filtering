{
  "cells": [
    {
      "metadata": {
        "trusted": true
      },
      "cell_type": "code",
      "source": "import pandas as pd\nfrom scipy import sparse\nfrom sklearn.metrics.pairwise import cosine_similarity\nratings=pd.read_csv(\"marks.csv\",index_col=0)\nratings\n\n",
      "execution_count": 1,
      "outputs": [
        {
          "output_type": "execute_result",
          "execution_count": 1,
          "data": {
            "text/html": "<div>\n<style scoped>\n    .dataframe tbody tr th:only-of-type {\n        vertical-align: middle;\n    }\n\n    .dataframe tbody tr th {\n        vertical-align: top;\n    }\n\n    .dataframe thead th {\n        text-align: right;\n    }\n</style>\n<table border=\"1\" class=\"dataframe\">\n  <thead>\n    <tr style=\"text-align: right;\">\n      <th></th>\n      <th>Subject 1</th>\n      <th>Subject 2</th>\n      <th>Subject 3</th>\n      <th>Subject 4</th>\n      <th>Subject 5</th>\n    </tr>\n  </thead>\n  <tbody>\n    <tr>\n      <th>Gaurav</th>\n      <td>4.6</td>\n      <td>4.4</td>\n      <td>0.0</td>\n      <td>1.4</td>\n      <td>1.0</td>\n    </tr>\n    <tr>\n      <th>Chir patel</th>\n      <td>3.6</td>\n      <td>4.0</td>\n      <td>4.6</td>\n      <td>1.0</td>\n      <td>1.6</td>\n    </tr>\n    <tr>\n      <th>Sammed</th>\n      <td>4.0</td>\n      <td>1.8</td>\n      <td>3.6</td>\n      <td>1.4</td>\n      <td>3.0</td>\n    </tr>\n    <tr>\n      <th>Vraj Dugar</th>\n      <td>3.4</td>\n      <td>4.0</td>\n      <td>2.8</td>\n      <td>0.0</td>\n      <td>0.0</td>\n    </tr>\n    <tr>\n      <th>Manan</th>\n      <td>4.4</td>\n      <td>4.4</td>\n      <td>0.0</td>\n      <td>3.6</td>\n      <td>2.0</td>\n    </tr>\n    <tr>\n      <th>Harsh</th>\n      <td>4.0</td>\n      <td>4.6</td>\n      <td>4.0</td>\n      <td>2.8</td>\n      <td>2.4</td>\n    </tr>\n    <tr>\n      <th>Priyanshi</th>\n      <td>4.2</td>\n      <td>0.0</td>\n      <td>4.6</td>\n      <td>2.6</td>\n      <td>2.6</td>\n    </tr>\n    <tr>\n      <th>Avishek</th>\n      <td>4.2</td>\n      <td>5.0</td>\n      <td>0.0</td>\n      <td>2.0</td>\n      <td>1.2</td>\n    </tr>\n    <tr>\n      <th>Thakur</th>\n      <td>4.2</td>\n      <td>5.0</td>\n      <td>3.8</td>\n      <td>2.0</td>\n      <td>2.4</td>\n    </tr>\n    <tr>\n      <th>Rajat</th>\n      <td>4.8</td>\n      <td>4.0</td>\n      <td>3.8</td>\n      <td>0.0</td>\n      <td>1.8</td>\n    </tr>\n  </tbody>\n</table>\n</div>",
            "text/plain": "            Subject 1  Subject 2  Subject 3  Subject 4  Subject 5\nGaurav            4.6        4.4        0.0        1.4        1.0\nChir patel        3.6        4.0        4.6        1.0        1.6\nSammed            4.0        1.8        3.6        1.4        3.0\nVraj Dugar        3.4        4.0        2.8        0.0        0.0\nManan             4.4        4.4        0.0        3.6        2.0\nHarsh             4.0        4.6        4.0        2.8        2.4\nPriyanshi         4.2        0.0        4.6        2.6        2.6\nAvishek           4.2        5.0        0.0        2.0        1.2\nThakur            4.2        5.0        3.8        2.0        2.4\nRajat             4.8        4.0        3.8        0.0        1.8"
          },
          "metadata": {}
        }
      ]
    },
    {
      "metadata": {
        "trusted": true
      },
      "cell_type": "code",
      "source": "def standardize(row):\n    new_row = (row - row.mean())/(row.max()-row.min())\n    return new_row\n\nratings_std = ratings.apply(standardize)\nratings_std",
      "execution_count": 2,
      "outputs": [
        {
          "output_type": "execute_result",
          "execution_count": 2,
          "data": {
            "text/html": "<div>\n<style scoped>\n    .dataframe tbody tr th:only-of-type {\n        vertical-align: middle;\n    }\n\n    .dataframe tbody tr th {\n        vertical-align: top;\n    }\n\n    .dataframe thead th {\n        text-align: right;\n    }\n</style>\n<table border=\"1\" class=\"dataframe\">\n  <thead>\n    <tr style=\"text-align: right;\">\n      <th></th>\n      <th>Subject 1</th>\n      <th>Subject 2</th>\n      <th>Subject 3</th>\n      <th>Subject 4</th>\n      <th>Subject 5</th>\n    </tr>\n  </thead>\n  <tbody>\n    <tr>\n      <th>Gaurav</th>\n      <td>0.328571</td>\n      <td>0.136</td>\n      <td>-0.591304</td>\n      <td>-0.077778</td>\n      <td>-0.266667</td>\n    </tr>\n    <tr>\n      <th>Chir patel</th>\n      <td>-0.385714</td>\n      <td>0.056</td>\n      <td>0.408696</td>\n      <td>-0.188889</td>\n      <td>-0.066667</td>\n    </tr>\n    <tr>\n      <th>Sammed</th>\n      <td>-0.100000</td>\n      <td>-0.384</td>\n      <td>0.191304</td>\n      <td>-0.077778</td>\n      <td>0.400000</td>\n    </tr>\n    <tr>\n      <th>Vraj Dugar</th>\n      <td>-0.528571</td>\n      <td>0.056</td>\n      <td>0.017391</td>\n      <td>-0.466667</td>\n      <td>-0.600000</td>\n    </tr>\n    <tr>\n      <th>Manan</th>\n      <td>0.185714</td>\n      <td>0.136</td>\n      <td>-0.591304</td>\n      <td>0.533333</td>\n      <td>0.066667</td>\n    </tr>\n    <tr>\n      <th>Harsh</th>\n      <td>-0.100000</td>\n      <td>0.176</td>\n      <td>0.278261</td>\n      <td>0.311111</td>\n      <td>0.200000</td>\n    </tr>\n    <tr>\n      <th>Priyanshi</th>\n      <td>0.042857</td>\n      <td>-0.744</td>\n      <td>0.408696</td>\n      <td>0.255556</td>\n      <td>0.266667</td>\n    </tr>\n    <tr>\n      <th>Avishek</th>\n      <td>0.042857</td>\n      <td>0.256</td>\n      <td>-0.591304</td>\n      <td>0.088889</td>\n      <td>-0.200000</td>\n    </tr>\n    <tr>\n      <th>Thakur</th>\n      <td>0.042857</td>\n      <td>0.256</td>\n      <td>0.234783</td>\n      <td>0.088889</td>\n      <td>0.200000</td>\n    </tr>\n    <tr>\n      <th>Rajat</th>\n      <td>0.471429</td>\n      <td>0.056</td>\n      <td>0.234783</td>\n      <td>-0.466667</td>\n      <td>0.000000</td>\n    </tr>\n  </tbody>\n</table>\n</div>",
            "text/plain": "            Subject 1  Subject 2  Subject 3  Subject 4  Subject 5\nGaurav       0.328571      0.136  -0.591304  -0.077778  -0.266667\nChir patel  -0.385714      0.056   0.408696  -0.188889  -0.066667\nSammed      -0.100000     -0.384   0.191304  -0.077778   0.400000\nVraj Dugar  -0.528571      0.056   0.017391  -0.466667  -0.600000\nManan        0.185714      0.136  -0.591304   0.533333   0.066667\nHarsh       -0.100000      0.176   0.278261   0.311111   0.200000\nPriyanshi    0.042857     -0.744   0.408696   0.255556   0.266667\nAvishek      0.042857      0.256  -0.591304   0.088889  -0.200000\nThakur       0.042857      0.256   0.234783   0.088889   0.200000\nRajat        0.471429      0.056   0.234783  -0.466667   0.000000"
          },
          "metadata": {}
        }
      ]
    },
    {
      "metadata": {
        "trusted": true
      },
      "cell_type": "code",
      "source": "item_similarity = cosine_similarity(ratings_std.T)\nitem_similarity\n",
      "execution_count": 3,
      "outputs": [
        {
          "output_type": "execute_result",
          "execution_count": 3,
          "data": {
            "text/plain": "array([[ 1.        ,  0.06491228, -0.35307241,  0.19125786,  0.27223606],\n       [ 0.06491228,  1.        , -0.44962486, -0.06565671, -0.44957174],\n       [-0.35307241, -0.44962486,  1.        , -0.25937731,  0.43180499],\n       [ 0.19125786, -0.06565671, -0.25937731,  1.        ,  0.51812075],\n       [ 0.27223606, -0.44957174,  0.43180499,  0.51812075,  1.        ]])"
          },
          "metadata": {}
        }
      ]
    },
    {
      "metadata": {
        "trusted": true
      },
      "cell_type": "code",
      "source": "item_similarity_df = pd.DataFrame(item_similarity,index=ratings.columns,columns=ratings.columns)\nitem_similarity_df",
      "execution_count": 4,
      "outputs": [
        {
          "output_type": "execute_result",
          "execution_count": 4,
          "data": {
            "text/html": "<div>\n<style scoped>\n    .dataframe tbody tr th:only-of-type {\n        vertical-align: middle;\n    }\n\n    .dataframe tbody tr th {\n        vertical-align: top;\n    }\n\n    .dataframe thead th {\n        text-align: right;\n    }\n</style>\n<table border=\"1\" class=\"dataframe\">\n  <thead>\n    <tr style=\"text-align: right;\">\n      <th></th>\n      <th>Subject 1</th>\n      <th>Subject 2</th>\n      <th>Subject 3</th>\n      <th>Subject 4</th>\n      <th>Subject 5</th>\n    </tr>\n  </thead>\n  <tbody>\n    <tr>\n      <th>Subject 1</th>\n      <td>1.000000</td>\n      <td>0.064912</td>\n      <td>-0.353072</td>\n      <td>0.191258</td>\n      <td>0.272236</td>\n    </tr>\n    <tr>\n      <th>Subject 2</th>\n      <td>0.064912</td>\n      <td>1.000000</td>\n      <td>-0.449625</td>\n      <td>-0.065657</td>\n      <td>-0.449572</td>\n    </tr>\n    <tr>\n      <th>Subject 3</th>\n      <td>-0.353072</td>\n      <td>-0.449625</td>\n      <td>1.000000</td>\n      <td>-0.259377</td>\n      <td>0.431805</td>\n    </tr>\n    <tr>\n      <th>Subject 4</th>\n      <td>0.191258</td>\n      <td>-0.065657</td>\n      <td>-0.259377</td>\n      <td>1.000000</td>\n      <td>0.518121</td>\n    </tr>\n    <tr>\n      <th>Subject 5</th>\n      <td>0.272236</td>\n      <td>-0.449572</td>\n      <td>0.431805</td>\n      <td>0.518121</td>\n      <td>1.000000</td>\n    </tr>\n  </tbody>\n</table>\n</div>",
            "text/plain": "           Subject 1  Subject 2  Subject 3  Subject 4  Subject 5\nSubject 1   1.000000   0.064912  -0.353072   0.191258   0.272236\nSubject 2   0.064912   1.000000  -0.449625  -0.065657  -0.449572\nSubject 3  -0.353072  -0.449625   1.000000  -0.259377   0.431805\nSubject 4   0.191258  -0.065657  -0.259377   1.000000   0.518121\nSubject 5   0.272236  -0.449572   0.431805   0.518121   1.000000"
          },
          "metadata": {}
        }
      ]
    },
    {
      "metadata": {
        "trusted": true
      },
      "cell_type": "code",
      "source": "def get_similar_subjects(subject_name,user_rating):\n    \n    similar_score = item_similarity_df[subject_name]*user_rating\n    similar_score = similar_score.sort_values(ascending=False)\n    #print(type(similar_ratings))\n    return similar_score\nprint(get_similar_subjects(\"Subject 5\",5))   ",
      "execution_count": 6,
      "outputs": [
        {
          "output_type": "stream",
          "text": "Subject 5    5.000000\nSubject 4    2.590604\nSubject 3    2.159025\nSubject 1    1.361180\nSubject 2   -2.247859\nName: Subject 5, dtype: float64\n",
          "name": "stdout"
        }
      ]
    },
    {
      "metadata": {
        "trusted": true
      },
      "cell_type": "code",
      "source": "",
      "execution_count": null,
      "outputs": []
    },
    {
      "metadata": {
        "trusted": true
      },
      "cell_type": "code",
      "source": "",
      "execution_count": null,
      "outputs": []
    }
  ],
  "metadata": {
    "kernelspec": {
      "name": "python36",
      "display_name": "Python 3.6",
      "language": "python"
    },
    "language_info": {
      "mimetype": "text/x-python",
      "nbconvert_exporter": "python",
      "name": "python",
      "pygments_lexer": "ipython3",
      "version": "3.6.6",
      "file_extension": ".py",
      "codemirror_mode": {
        "version": 3,
        "name": "ipython"
      }
    }
  },
  "nbformat": 4,
  "nbformat_minor": 2
}